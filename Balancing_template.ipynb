{
 "cells": [
  {
   "cell_type": "markdown",
   "metadata": {},
   "source": [
    "# Balancing Procedures"
   ]
  },
  {
   "cell_type": "markdown",
   "metadata": {},
   "source": [
    "#### Downsample"
   ]
  },
  {
   "cell_type": "code",
   "execution_count": null,
   "metadata": {},
   "outputs": [],
   "source": [
    "data_models['TYPE_OF_CONTRACT'].value_counts()"
   ]
  },
  {
   "cell_type": "code",
   "execution_count": null,
   "metadata": {},
   "outputs": [],
   "source": [
    "df_U = data_models[data_models['TYPE_OF_CONTRACT'] == 'U']#10727\n",
    "df_S = data_models[data_models['TYPE_OF_CONTRACT'] == 'S']#5399\n",
    "df_W = data_models[data_models['TYPE_OF_CONTRACT'] == 'W']#872\n",
    "\n",
    "# UP-sample W to S\n",
    "df_W_upsample = resample(df_W, replace = True, n_samples=5399, random_state= 123)\n",
    "df_upsample = pd.concat([df_S, df_W_upsample])\n",
    "\n",
    "# Down-sample U to S\n",
    "df_U_downsample = resample(df_U, replace = False, n_samples = 5399, random_state = 123)\n",
    "data_balanced = pd.concat([df_U_downsample, df_upsample])\n",
    "\n",
    "data_balanced['TYPE_OF_CONTRACT'].value_counts()"
   ]
  },
  {
   "cell_type": "markdown",
   "metadata": {},
   "source": [
    "#### More balancing procedures"
   ]
  },
  {
   "cell_type": "code",
   "execution_count": null,
   "metadata": {},
   "outputs": [],
   "source": []
  }
 ],
 "metadata": {
  "kernelspec": {
   "display_name": "Python 3",
   "language": "python",
   "name": "python3"
  },
  "language_info": {
   "codemirror_mode": {
    "name": "ipython",
    "version": 3
   },
   "file_extension": ".py",
   "mimetype": "text/x-python",
   "name": "python",
   "nbconvert_exporter": "python",
   "pygments_lexer": "ipython3",
   "version": "3.7.5"
  }
 },
 "nbformat": 4,
 "nbformat_minor": 2
}
