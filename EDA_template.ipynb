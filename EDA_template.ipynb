{
 "cells": [
  {
   "cell_type": "markdown",
   "metadata": {},
   "source": [
    "## Exploratory Analysis"
   ]
  },
  {
   "cell_type": "markdown",
   "metadata": {},
   "source": [
    "### Contents:\n",
    "* Load dataset\n",
    "* Explore dataset\n",
    "    * Check target balance\n",
    "* Basic plots\n",
    "* Outliers\n",
    "* Handling missing values\n",
    "    * Drop columns/row\n",
    "    * Impute\n",
    "* Treating categorical features"
   ]
  },
  {
   "cell_type": "markdown",
   "metadata": {},
   "source": [
    "### Libraries:"
   ]
  },
  {
   "cell_type": "code",
   "execution_count": 2,
   "metadata": {},
   "outputs": [],
   "source": [
    "import pandas as pd\n",
    "import numpy as np\n",
    "\n",
    "import pandas_profiling\n",
    "\n",
    "import seaborn as sns\n",
    "import matplotlib.pyplot as plt\n",
    "%matplotlib inline\n",
    "\n",
    "\n",
    "import warnings\n",
    "warnings.filterwarnings(\"ignore\")"
   ]
  },
  {
   "cell_type": "markdown",
   "metadata": {},
   "source": [
    "### Load Dataset:"
   ]
  },
  {
   "cell_type": "code",
   "execution_count": 188,
   "metadata": {},
   "outputs": [],
   "source": [
    "path = \"/Users/ballesta/repos/ML/gitHub/Templates_ML/data\""
   ]
  },
  {
   "cell_type": "code",
   "execution_count": 4,
   "metadata": {
    "scrolled": true
   },
   "outputs": [],
   "source": [
    "# Data from kaggle https://www.kaggle.com/sakshigoyal7/credit-card-customers\n",
    "df = pd.read_csv(path+'/BankChurners.csv', sep = ',', header='infer', index_col=None)"
   ]
  },
  {
   "cell_type": "code",
   "execution_count": 5,
   "metadata": {},
   "outputs": [],
   "source": [
    "columns_to_drop = ['Naive_Bayes_Classifier_Attrition_Flag_Card_Category_Contacts_Count_12_mon_Dependent_count_Education_Level_Months_Inactive_12_mon_1',\n",
    "                  'Naive_Bayes_Classifier_Attrition_Flag_Card_Category_Contacts_Count_12_mon_Dependent_count_Education_Level_Months_Inactive_12_mon_2']\n",
    "df = df.drop(columns_to_drop, axis = 1) "
   ]
  },
  {
   "cell_type": "markdown",
   "metadata": {},
   "source": [
    "### Explore dataset"
   ]
  },
  {
   "cell_type": "code",
   "execution_count": 6,
   "metadata": {
    "scrolled": true
   },
   "outputs": [
    {
     "name": "stdout",
     "output_type": "stream",
     "text": [
      "The size of the dataset is: (10127, 21) \n",
      "\n",
      "<class 'pandas.core.frame.DataFrame'>\n",
      "RangeIndex: 10127 entries, 0 to 10126\n",
      "Data columns (total 21 columns):\n",
      "CLIENTNUM                   10127 non-null int64\n",
      "Attrition_Flag              10127 non-null object\n",
      "Customer_Age                10127 non-null int64\n",
      "Gender                      10127 non-null object\n",
      "Dependent_count             10127 non-null int64\n",
      "Education_Level             10127 non-null object\n",
      "Marital_Status              10127 non-null object\n",
      "Income_Category             10127 non-null object\n",
      "Card_Category               10127 non-null object\n",
      "Months_on_book              10127 non-null int64\n",
      "Total_Relationship_Count    10127 non-null int64\n",
      "Months_Inactive_12_mon      10127 non-null int64\n",
      "Contacts_Count_12_mon       10127 non-null int64\n",
      "Credit_Limit                10127 non-null float64\n",
      "Total_Revolving_Bal         10127 non-null int64\n",
      "Avg_Open_To_Buy             10127 non-null float64\n",
      "Total_Amt_Chng_Q4_Q1        10127 non-null float64\n",
      "Total_Trans_Amt             10127 non-null int64\n",
      "Total_Trans_Ct              10127 non-null int64\n",
      "Total_Ct_Chng_Q4_Q1         10127 non-null float64\n",
      "Avg_Utilization_Ratio       10127 non-null float64\n",
      "dtypes: float64(5), int64(10), object(6)\n",
      "memory usage: 1.6+ MB\n"
     ]
    }
   ],
   "source": [
    "print('The size of the dataset is:', df.shape, '\\n')\n",
    "df.info()"
   ]
  },
  {
   "cell_type": "code",
   "execution_count": 7,
   "metadata": {},
   "outputs": [
    {
     "data": {
      "text/html": [
       "<div>\n",
       "<style scoped>\n",
       "    .dataframe tbody tr th:only-of-type {\n",
       "        vertical-align: middle;\n",
       "    }\n",
       "\n",
       "    .dataframe tbody tr th {\n",
       "        vertical-align: top;\n",
       "    }\n",
       "\n",
       "    .dataframe thead th {\n",
       "        text-align: right;\n",
       "    }\n",
       "</style>\n",
       "<table border=\"1\" class=\"dataframe\">\n",
       "  <thead>\n",
       "    <tr style=\"text-align: right;\">\n",
       "      <th></th>\n",
       "      <th>CLIENTNUM</th>\n",
       "      <th>Attrition_Flag</th>\n",
       "      <th>Customer_Age</th>\n",
       "      <th>Gender</th>\n",
       "      <th>Dependent_count</th>\n",
       "      <th>Education_Level</th>\n",
       "      <th>Marital_Status</th>\n",
       "      <th>Income_Category</th>\n",
       "      <th>Card_Category</th>\n",
       "      <th>Months_on_book</th>\n",
       "      <th>...</th>\n",
       "      <th>Months_Inactive_12_mon</th>\n",
       "      <th>Contacts_Count_12_mon</th>\n",
       "      <th>Credit_Limit</th>\n",
       "      <th>Total_Revolving_Bal</th>\n",
       "      <th>Avg_Open_To_Buy</th>\n",
       "      <th>Total_Amt_Chng_Q4_Q1</th>\n",
       "      <th>Total_Trans_Amt</th>\n",
       "      <th>Total_Trans_Ct</th>\n",
       "      <th>Total_Ct_Chng_Q4_Q1</th>\n",
       "      <th>Avg_Utilization_Ratio</th>\n",
       "    </tr>\n",
       "  </thead>\n",
       "  <tbody>\n",
       "    <tr>\n",
       "      <th>0</th>\n",
       "      <td>768805383</td>\n",
       "      <td>Existing Customer</td>\n",
       "      <td>45</td>\n",
       "      <td>M</td>\n",
       "      <td>3</td>\n",
       "      <td>High School</td>\n",
       "      <td>Married</td>\n",
       "      <td>$60K - $80K</td>\n",
       "      <td>Blue</td>\n",
       "      <td>39</td>\n",
       "      <td>...</td>\n",
       "      <td>1</td>\n",
       "      <td>3</td>\n",
       "      <td>12691.0</td>\n",
       "      <td>777</td>\n",
       "      <td>11914.0</td>\n",
       "      <td>1.335</td>\n",
       "      <td>1144</td>\n",
       "      <td>42</td>\n",
       "      <td>1.625</td>\n",
       "      <td>0.061</td>\n",
       "    </tr>\n",
       "    <tr>\n",
       "      <th>1</th>\n",
       "      <td>818770008</td>\n",
       "      <td>Existing Customer</td>\n",
       "      <td>49</td>\n",
       "      <td>F</td>\n",
       "      <td>5</td>\n",
       "      <td>Graduate</td>\n",
       "      <td>Single</td>\n",
       "      <td>Less than $40K</td>\n",
       "      <td>Blue</td>\n",
       "      <td>44</td>\n",
       "      <td>...</td>\n",
       "      <td>1</td>\n",
       "      <td>2</td>\n",
       "      <td>8256.0</td>\n",
       "      <td>864</td>\n",
       "      <td>7392.0</td>\n",
       "      <td>1.541</td>\n",
       "      <td>1291</td>\n",
       "      <td>33</td>\n",
       "      <td>3.714</td>\n",
       "      <td>0.105</td>\n",
       "    </tr>\n",
       "    <tr>\n",
       "      <th>2</th>\n",
       "      <td>713982108</td>\n",
       "      <td>Existing Customer</td>\n",
       "      <td>51</td>\n",
       "      <td>M</td>\n",
       "      <td>3</td>\n",
       "      <td>Graduate</td>\n",
       "      <td>Married</td>\n",
       "      <td>$80K - $120K</td>\n",
       "      <td>Blue</td>\n",
       "      <td>36</td>\n",
       "      <td>...</td>\n",
       "      <td>1</td>\n",
       "      <td>0</td>\n",
       "      <td>3418.0</td>\n",
       "      <td>0</td>\n",
       "      <td>3418.0</td>\n",
       "      <td>2.594</td>\n",
       "      <td>1887</td>\n",
       "      <td>20</td>\n",
       "      <td>2.333</td>\n",
       "      <td>0.000</td>\n",
       "    </tr>\n",
       "    <tr>\n",
       "      <th>3</th>\n",
       "      <td>769911858</td>\n",
       "      <td>Existing Customer</td>\n",
       "      <td>40</td>\n",
       "      <td>F</td>\n",
       "      <td>4</td>\n",
       "      <td>High School</td>\n",
       "      <td>Unknown</td>\n",
       "      <td>Less than $40K</td>\n",
       "      <td>Blue</td>\n",
       "      <td>34</td>\n",
       "      <td>...</td>\n",
       "      <td>4</td>\n",
       "      <td>1</td>\n",
       "      <td>3313.0</td>\n",
       "      <td>2517</td>\n",
       "      <td>796.0</td>\n",
       "      <td>1.405</td>\n",
       "      <td>1171</td>\n",
       "      <td>20</td>\n",
       "      <td>2.333</td>\n",
       "      <td>0.760</td>\n",
       "    </tr>\n",
       "    <tr>\n",
       "      <th>4</th>\n",
       "      <td>709106358</td>\n",
       "      <td>Existing Customer</td>\n",
       "      <td>40</td>\n",
       "      <td>M</td>\n",
       "      <td>3</td>\n",
       "      <td>Uneducated</td>\n",
       "      <td>Married</td>\n",
       "      <td>$60K - $80K</td>\n",
       "      <td>Blue</td>\n",
       "      <td>21</td>\n",
       "      <td>...</td>\n",
       "      <td>1</td>\n",
       "      <td>0</td>\n",
       "      <td>4716.0</td>\n",
       "      <td>0</td>\n",
       "      <td>4716.0</td>\n",
       "      <td>2.175</td>\n",
       "      <td>816</td>\n",
       "      <td>28</td>\n",
       "      <td>2.500</td>\n",
       "      <td>0.000</td>\n",
       "    </tr>\n",
       "  </tbody>\n",
       "</table>\n",
       "<p>5 rows × 21 columns</p>\n",
       "</div>"
      ],
      "text/plain": [
       "   CLIENTNUM     Attrition_Flag  Customer_Age Gender  Dependent_count  \\\n",
       "0  768805383  Existing Customer            45      M                3   \n",
       "1  818770008  Existing Customer            49      F                5   \n",
       "2  713982108  Existing Customer            51      M                3   \n",
       "3  769911858  Existing Customer            40      F                4   \n",
       "4  709106358  Existing Customer            40      M                3   \n",
       "\n",
       "  Education_Level Marital_Status Income_Category Card_Category  \\\n",
       "0     High School        Married     $60K - $80K          Blue   \n",
       "1        Graduate         Single  Less than $40K          Blue   \n",
       "2        Graduate        Married    $80K - $120K          Blue   \n",
       "3     High School        Unknown  Less than $40K          Blue   \n",
       "4      Uneducated        Married     $60K - $80K          Blue   \n",
       "\n",
       "   Months_on_book  ...  Months_Inactive_12_mon  Contacts_Count_12_mon  \\\n",
       "0              39  ...                       1                      3   \n",
       "1              44  ...                       1                      2   \n",
       "2              36  ...                       1                      0   \n",
       "3              34  ...                       4                      1   \n",
       "4              21  ...                       1                      0   \n",
       "\n",
       "   Credit_Limit  Total_Revolving_Bal  Avg_Open_To_Buy  Total_Amt_Chng_Q4_Q1  \\\n",
       "0       12691.0                  777          11914.0                 1.335   \n",
       "1        8256.0                  864           7392.0                 1.541   \n",
       "2        3418.0                    0           3418.0                 2.594   \n",
       "3        3313.0                 2517            796.0                 1.405   \n",
       "4        4716.0                    0           4716.0                 2.175   \n",
       "\n",
       "   Total_Trans_Amt  Total_Trans_Ct  Total_Ct_Chng_Q4_Q1  Avg_Utilization_Ratio  \n",
       "0             1144              42                1.625                  0.061  \n",
       "1             1291              33                3.714                  0.105  \n",
       "2             1887              20                2.333                  0.000  \n",
       "3             1171              20                2.333                  0.760  \n",
       "4              816              28                2.500                  0.000  \n",
       "\n",
       "[5 rows x 21 columns]"
      ]
     },
     "execution_count": 7,
     "metadata": {},
     "output_type": "execute_result"
    }
   ],
   "source": [
    "df.head()"
   ]
  },
  {
   "cell_type": "code",
   "execution_count": 8,
   "metadata": {},
   "outputs": [
    {
     "data": {
      "text/html": [
       "<div>\n",
       "<style scoped>\n",
       "    .dataframe tbody tr th:only-of-type {\n",
       "        vertical-align: middle;\n",
       "    }\n",
       "\n",
       "    .dataframe tbody tr th {\n",
       "        vertical-align: top;\n",
       "    }\n",
       "\n",
       "    .dataframe thead th {\n",
       "        text-align: right;\n",
       "    }\n",
       "</style>\n",
       "<table border=\"1\" class=\"dataframe\">\n",
       "  <thead>\n",
       "    <tr style=\"text-align: right;\">\n",
       "      <th></th>\n",
       "      <th>CLIENTNUM</th>\n",
       "      <th>Customer_Age</th>\n",
       "      <th>Dependent_count</th>\n",
       "      <th>Months_on_book</th>\n",
       "      <th>Total_Relationship_Count</th>\n",
       "      <th>Months_Inactive_12_mon</th>\n",
       "      <th>Contacts_Count_12_mon</th>\n",
       "      <th>Credit_Limit</th>\n",
       "      <th>Total_Revolving_Bal</th>\n",
       "      <th>Avg_Open_To_Buy</th>\n",
       "      <th>Total_Amt_Chng_Q4_Q1</th>\n",
       "      <th>Total_Trans_Amt</th>\n",
       "      <th>Total_Trans_Ct</th>\n",
       "      <th>Total_Ct_Chng_Q4_Q1</th>\n",
       "      <th>Avg_Utilization_Ratio</th>\n",
       "    </tr>\n",
       "  </thead>\n",
       "  <tbody>\n",
       "    <tr>\n",
       "      <th>count</th>\n",
       "      <td>1.012700e+04</td>\n",
       "      <td>10127.000000</td>\n",
       "      <td>10127.000000</td>\n",
       "      <td>10127.000000</td>\n",
       "      <td>10127.000000</td>\n",
       "      <td>10127.000000</td>\n",
       "      <td>10127.000000</td>\n",
       "      <td>10127.000000</td>\n",
       "      <td>10127.000000</td>\n",
       "      <td>10127.000000</td>\n",
       "      <td>10127.000000</td>\n",
       "      <td>10127.000000</td>\n",
       "      <td>10127.000000</td>\n",
       "      <td>10127.000000</td>\n",
       "      <td>10127.000000</td>\n",
       "    </tr>\n",
       "    <tr>\n",
       "      <th>mean</th>\n",
       "      <td>7.391776e+08</td>\n",
       "      <td>46.325960</td>\n",
       "      <td>2.346203</td>\n",
       "      <td>35.928409</td>\n",
       "      <td>3.812580</td>\n",
       "      <td>2.341167</td>\n",
       "      <td>2.455317</td>\n",
       "      <td>8631.953698</td>\n",
       "      <td>1162.814061</td>\n",
       "      <td>7469.139637</td>\n",
       "      <td>0.759941</td>\n",
       "      <td>4404.086304</td>\n",
       "      <td>64.858695</td>\n",
       "      <td>0.712222</td>\n",
       "      <td>0.274894</td>\n",
       "    </tr>\n",
       "    <tr>\n",
       "      <th>std</th>\n",
       "      <td>3.690378e+07</td>\n",
       "      <td>8.016814</td>\n",
       "      <td>1.298908</td>\n",
       "      <td>7.986416</td>\n",
       "      <td>1.554408</td>\n",
       "      <td>1.010622</td>\n",
       "      <td>1.106225</td>\n",
       "      <td>9088.776650</td>\n",
       "      <td>814.987335</td>\n",
       "      <td>9090.685324</td>\n",
       "      <td>0.219207</td>\n",
       "      <td>3397.129254</td>\n",
       "      <td>23.472570</td>\n",
       "      <td>0.238086</td>\n",
       "      <td>0.275691</td>\n",
       "    </tr>\n",
       "    <tr>\n",
       "      <th>min</th>\n",
       "      <td>7.080821e+08</td>\n",
       "      <td>26.000000</td>\n",
       "      <td>0.000000</td>\n",
       "      <td>13.000000</td>\n",
       "      <td>1.000000</td>\n",
       "      <td>0.000000</td>\n",
       "      <td>0.000000</td>\n",
       "      <td>1438.300000</td>\n",
       "      <td>0.000000</td>\n",
       "      <td>3.000000</td>\n",
       "      <td>0.000000</td>\n",
       "      <td>510.000000</td>\n",
       "      <td>10.000000</td>\n",
       "      <td>0.000000</td>\n",
       "      <td>0.000000</td>\n",
       "    </tr>\n",
       "    <tr>\n",
       "      <th>25%</th>\n",
       "      <td>7.130368e+08</td>\n",
       "      <td>41.000000</td>\n",
       "      <td>1.000000</td>\n",
       "      <td>31.000000</td>\n",
       "      <td>3.000000</td>\n",
       "      <td>2.000000</td>\n",
       "      <td>2.000000</td>\n",
       "      <td>2555.000000</td>\n",
       "      <td>359.000000</td>\n",
       "      <td>1324.500000</td>\n",
       "      <td>0.631000</td>\n",
       "      <td>2155.500000</td>\n",
       "      <td>45.000000</td>\n",
       "      <td>0.582000</td>\n",
       "      <td>0.023000</td>\n",
       "    </tr>\n",
       "    <tr>\n",
       "      <th>50%</th>\n",
       "      <td>7.179264e+08</td>\n",
       "      <td>46.000000</td>\n",
       "      <td>2.000000</td>\n",
       "      <td>36.000000</td>\n",
       "      <td>4.000000</td>\n",
       "      <td>2.000000</td>\n",
       "      <td>2.000000</td>\n",
       "      <td>4549.000000</td>\n",
       "      <td>1276.000000</td>\n",
       "      <td>3474.000000</td>\n",
       "      <td>0.736000</td>\n",
       "      <td>3899.000000</td>\n",
       "      <td>67.000000</td>\n",
       "      <td>0.702000</td>\n",
       "      <td>0.176000</td>\n",
       "    </tr>\n",
       "    <tr>\n",
       "      <th>75%</th>\n",
       "      <td>7.731435e+08</td>\n",
       "      <td>52.000000</td>\n",
       "      <td>3.000000</td>\n",
       "      <td>40.000000</td>\n",
       "      <td>5.000000</td>\n",
       "      <td>3.000000</td>\n",
       "      <td>3.000000</td>\n",
       "      <td>11067.500000</td>\n",
       "      <td>1784.000000</td>\n",
       "      <td>9859.000000</td>\n",
       "      <td>0.859000</td>\n",
       "      <td>4741.000000</td>\n",
       "      <td>81.000000</td>\n",
       "      <td>0.818000</td>\n",
       "      <td>0.503000</td>\n",
       "    </tr>\n",
       "    <tr>\n",
       "      <th>max</th>\n",
       "      <td>8.283431e+08</td>\n",
       "      <td>73.000000</td>\n",
       "      <td>5.000000</td>\n",
       "      <td>56.000000</td>\n",
       "      <td>6.000000</td>\n",
       "      <td>6.000000</td>\n",
       "      <td>6.000000</td>\n",
       "      <td>34516.000000</td>\n",
       "      <td>2517.000000</td>\n",
       "      <td>34516.000000</td>\n",
       "      <td>3.397000</td>\n",
       "      <td>18484.000000</td>\n",
       "      <td>139.000000</td>\n",
       "      <td>3.714000</td>\n",
       "      <td>0.999000</td>\n",
       "    </tr>\n",
       "  </tbody>\n",
       "</table>\n",
       "</div>"
      ],
      "text/plain": [
       "          CLIENTNUM  Customer_Age  Dependent_count  Months_on_book  \\\n",
       "count  1.012700e+04  10127.000000     10127.000000    10127.000000   \n",
       "mean   7.391776e+08     46.325960         2.346203       35.928409   \n",
       "std    3.690378e+07      8.016814         1.298908        7.986416   \n",
       "min    7.080821e+08     26.000000         0.000000       13.000000   \n",
       "25%    7.130368e+08     41.000000         1.000000       31.000000   \n",
       "50%    7.179264e+08     46.000000         2.000000       36.000000   \n",
       "75%    7.731435e+08     52.000000         3.000000       40.000000   \n",
       "max    8.283431e+08     73.000000         5.000000       56.000000   \n",
       "\n",
       "       Total_Relationship_Count  Months_Inactive_12_mon  \\\n",
       "count              10127.000000            10127.000000   \n",
       "mean                   3.812580                2.341167   \n",
       "std                    1.554408                1.010622   \n",
       "min                    1.000000                0.000000   \n",
       "25%                    3.000000                2.000000   \n",
       "50%                    4.000000                2.000000   \n",
       "75%                    5.000000                3.000000   \n",
       "max                    6.000000                6.000000   \n",
       "\n",
       "       Contacts_Count_12_mon  Credit_Limit  Total_Revolving_Bal  \\\n",
       "count           10127.000000  10127.000000         10127.000000   \n",
       "mean                2.455317   8631.953698          1162.814061   \n",
       "std                 1.106225   9088.776650           814.987335   \n",
       "min                 0.000000   1438.300000             0.000000   \n",
       "25%                 2.000000   2555.000000           359.000000   \n",
       "50%                 2.000000   4549.000000          1276.000000   \n",
       "75%                 3.000000  11067.500000          1784.000000   \n",
       "max                 6.000000  34516.000000          2517.000000   \n",
       "\n",
       "       Avg_Open_To_Buy  Total_Amt_Chng_Q4_Q1  Total_Trans_Amt  Total_Trans_Ct  \\\n",
       "count     10127.000000          10127.000000     10127.000000    10127.000000   \n",
       "mean       7469.139637              0.759941      4404.086304       64.858695   \n",
       "std        9090.685324              0.219207      3397.129254       23.472570   \n",
       "min           3.000000              0.000000       510.000000       10.000000   \n",
       "25%        1324.500000              0.631000      2155.500000       45.000000   \n",
       "50%        3474.000000              0.736000      3899.000000       67.000000   \n",
       "75%        9859.000000              0.859000      4741.000000       81.000000   \n",
       "max       34516.000000              3.397000     18484.000000      139.000000   \n",
       "\n",
       "       Total_Ct_Chng_Q4_Q1  Avg_Utilization_Ratio  \n",
       "count         10127.000000           10127.000000  \n",
       "mean              0.712222               0.274894  \n",
       "std               0.238086               0.275691  \n",
       "min               0.000000               0.000000  \n",
       "25%               0.582000               0.023000  \n",
       "50%               0.702000               0.176000  \n",
       "75%               0.818000               0.503000  \n",
       "max               3.714000               0.999000  "
      ]
     },
     "execution_count": 8,
     "metadata": {},
     "output_type": "execute_result"
    }
   ],
   "source": [
    "df.describe()"
   ]
  },
  {
   "cell_type": "markdown",
   "metadata": {},
   "source": [
    "Get features and target"
   ]
  },
  {
   "cell_type": "code",
   "execution_count": 9,
   "metadata": {},
   "outputs": [],
   "source": [
    "BOLD = '\\033[1m'\n",
    "END = '\\033[0m'"
   ]
  },
  {
   "cell_type": "code",
   "execution_count": 10,
   "metadata": {},
   "outputs": [
    {
     "name": "stdout",
     "output_type": "stream",
     "text": [
      "\u001b[1m Model features: \n",
      " \u001b[0m Index(['CLIENTNUM', 'Customer_Age', 'Gender', 'Dependent_count',\n",
      "       'Education_Level', 'Marital_Status', 'Income_Category', 'Card_Category',\n",
      "       'Months_on_book', 'Total_Relationship_Count', 'Months_Inactive_12_mon',\n",
      "       'Contacts_Count_12_mon', 'Credit_Limit', 'Total_Revolving_Bal',\n",
      "       'Avg_Open_To_Buy', 'Total_Amt_Chng_Q4_Q1', 'Total_Trans_Amt',\n",
      "       'Total_Trans_Ct', 'Total_Ct_Chng_Q4_Q1', 'Avg_Utilization_Ratio'],\n",
      "      dtype='object') \n",
      "\n",
      "\u001b[1m Model target: \n",
      " \u001b[0m Attrition_Flag\n"
     ]
    }
   ],
   "source": [
    "model_features = df.columns.drop('Attrition_Flag')\n",
    "model_target = 'Attrition_Flag'\n",
    "\n",
    "print(BOLD,'Model features: \\n', END,  model_features, '\\n')\n",
    "print(BOLD, 'Model target: \\n', END, model_target)"
   ]
  },
  {
   "cell_type": "markdown",
   "metadata": {},
   "source": [
    "Get numerical and categorical features:"
   ]
  },
  {
   "cell_type": "code",
   "execution_count": 11,
   "metadata": {},
   "outputs": [
    {
     "name": "stdout",
     "output_type": "stream",
     "text": [
      "\u001b[1m Numerical columns:\n",
      " \u001b[0m Index(['CLIENTNUM', 'Customer_Age', 'Dependent_count', 'Months_on_book',\n",
      "       'Total_Relationship_Count', 'Months_Inactive_12_mon',\n",
      "       'Contacts_Count_12_mon', 'Credit_Limit', 'Total_Revolving_Bal',\n",
      "       'Avg_Open_To_Buy', 'Total_Amt_Chng_Q4_Q1', 'Total_Trans_Amt',\n",
      "       'Total_Trans_Ct', 'Total_Ct_Chng_Q4_Q1', 'Avg_Utilization_Ratio'],\n",
      "      dtype='object') \n",
      "\n",
      "\u001b[1m Categorical columns:\n",
      " \u001b[0m Index(['Gender', 'Education_Level', 'Marital_Status', 'Income_Category',\n",
      "       'Card_Category'],\n",
      "      dtype='object')\n"
     ]
    }
   ],
   "source": [
    "numerical_features_all = df[model_features].select_dtypes(include=np.number).columns\n",
    "print(BOLD, 'Numerical columns:\\n', END, numerical_features_all, '\\n')\n",
    "\n",
    "categorical_features_all = df[model_features].select_dtypes(include='object').columns\n",
    "print(BOLD, 'Categorical columns:\\n', END, categorical_features_all)"
   ]
  },
  {
   "cell_type": "markdown",
   "metadata": {},
   "source": [
    "Explore the unique values of the categorical features:"
   ]
  },
  {
   "cell_type": "code",
   "execution_count": 12,
   "metadata": {
    "scrolled": true
   },
   "outputs": [
    {
     "name": "stdout",
     "output_type": "stream",
     "text": [
      "F    5358\n",
      "M    4769\n",
      "Name: Gender, dtype: int64\n",
      "Graduate         3128\n",
      "High School      2013\n",
      "Unknown          1519\n",
      "Uneducated       1487\n",
      "College          1013\n",
      "Post-Graduate     516\n",
      "Doctorate         451\n",
      "Name: Education_Level, dtype: int64\n",
      "Married     4687\n",
      "Single      3943\n",
      "Unknown      749\n",
      "Divorced     748\n",
      "Name: Marital_Status, dtype: int64\n",
      "Less than $40K    3561\n",
      "$40K - $60K       1790\n",
      "$80K - $120K      1535\n",
      "$60K - $80K       1402\n",
      "Unknown           1112\n",
      "$120K +            727\n",
      "Name: Income_Category, dtype: int64\n",
      "Blue        9436\n",
      "Silver       555\n",
      "Gold         116\n",
      "Platinum      20\n",
      "Name: Card_Category, dtype: int64\n"
     ]
    }
   ],
   "source": [
    "for c in categorical_features_all: \n",
    "    print(df[c].value_counts())"
   ]
  },
  {
   "cell_type": "markdown",
   "metadata": {},
   "source": [
    "Check value counts of the target to see possible imbalances."
   ]
  },
  {
   "cell_type": "code",
   "execution_count": 13,
   "metadata": {
    "scrolled": true
   },
   "outputs": [
    {
     "data": {
      "text/plain": [
       "Existing Customer    8500\n",
       "Attrited Customer    1627\n",
       "Name: Attrition_Flag, dtype: int64"
      ]
     },
     "execution_count": 13,
     "metadata": {},
     "output_type": "execute_result"
    }
   ],
   "source": [
    "df[model_target].value_counts()"
   ]
  },
  {
   "cell_type": "code",
   "execution_count": 14,
   "metadata": {},
   "outputs": [
    {
     "name": "stdout",
     "output_type": "stream",
     "text": [
      "Proportion of minority class: 0.161 %\n"
     ]
    }
   ],
   "source": [
    "majority_class = df[model_target].value_counts()[0]\n",
    "minority_class = df[model_target].value_counts()[1]\n",
    "print('Proportion of minority class:', round(minority_class/(minority_class+majority_class),3), '%')"
   ]
  },
  {
   "cell_type": "code",
   "execution_count": 190,
   "metadata": {},
   "outputs": [],
   "source": [
    "#pandas_profiling.ProfileReport(df)"
   ]
  },
  {
   "cell_type": "markdown",
   "metadata": {},
   "source": [
    "### Basic plots"
   ]
  },
  {
   "cell_type": "markdown",
   "metadata": {},
   "source": [
    "Bar plot:"
   ]
  },
  {
   "cell_type": "code",
   "execution_count": 191,
   "metadata": {},
   "outputs": [
    {
     "name": "stdout",
     "output_type": "stream",
     "text": [
      "Attrition_Flag\n"
     ]
    },
    {
     "data": {
      "image/png": "[encoded data removed]",
      "text/plain": [
       "<Figure size 800x550 with 1 Axes>"
      ]
     },
     "metadata": {},
     "output_type": "display_data"
    }
   ],
   "source": [
    "# Target\n",
    "print(model_target)\n",
    "df[model_target].value_counts().plot.bar(edgecolor = 'black', color = 'green')\n",
    "plt.show()\n",
    "\n",
    "# Categorical features\n",
    "#for c in categorical_features_all:\n",
    "#    if len(df[c].value_counts()) < 50:\n",
    "#        print(c)\n",
    "#        df[c].value_counts().plot.bar(edgecolor = 'black', color = 'green')\n",
    "#        plt.show()"
   ]
  },
  {
   "cell_type": "markdown",
   "metadata": {},
   "source": [
    "Histogram"
   ]
  },
  {
   "cell_type": "code",
   "execution_count": 192,
   "metadata": {},
   "outputs": [],
   "source": [
    "# Numerical features\n",
    "#for c in numerical_features_all:\n",
    "#    df[c].plot.hist(bins=10, edgecolor = 'black', color = 'green')\n",
    "#    plt.title(c)\n",
    "#    plt.show()"
   ]
  },
  {
   "cell_type": "markdown",
   "metadata": {},
   "source": [
    "### Outliers"
   ]
  },
  {
   "cell_type": "markdown",
   "metadata": {},
   "source": [
    "Some outliers are detected by logic (for instance a sample with age 999) while other outliers follow different rules. A good rule of thumb is that anything not in the range of (Q1 - 1.5 IQR) and (Q3 + 1.5 IQR) is an outlier. Another rule could be for example, removing any values in the upper 1%."
   ]
  },
  {
   "cell_type": "markdown",
   "metadata": {},
   "source": [
    "Check distribution of features with histograms as shown before."
   ]
  },
  {
   "cell_type": "code",
   "execution_count": 18,
   "metadata": {},
   "outputs": [
    {
     "data": {
      "text/plain": [
       "<matplotlib.axes._subplots.AxesSubplot at 0x12981e1d0>"
      ]
     },
     "execution_count": 18,
     "metadata": {},
     "output_type": "execute_result"
    },
    {
     "data": {
      "image/png": "[encoded data removed]",
      "text/plain": [
       "<Figure size 700x700 with 1 Axes>"
      ]
     },
     "metadata": {},
     "output_type": "display_data"
    }
   ],
   "source": [
    "plt.figure(figsize=(7,7))\n",
    "df.boxplot(rot=90)"
   ]
  },
  {
   "cell_type": "code",
   "execution_count": 19,
   "metadata": {},
   "outputs": [],
   "source": [
    "for columns in numerical_features_all:\n",
    "    first_quartile = df[columns].describe()['25%'] #Q1 = df[c].quantile(0.25)\n",
    "    third_quartile = df[columns].describe()['75%'] #Q3 = df[c].quantile(0.75)\n",
    "\n",
    "    iqr = third_quartile - first_quartile\n",
    "\n",
    "    df = df[(df[columns] > (first_quartile - 3 * iqr)) &\n",
    "                              (df[columns] < (third_quartile + 3 * iqr))]"
   ]
  },
  {
   "cell_type": "markdown",
   "metadata": {},
   "source": [
    "Re-check distribution of the features"
   ]
  },
  {
   "cell_type": "code",
   "execution_count": 193,
   "metadata": {},
   "outputs": [],
   "source": [
    "#plt.figure(figsize=(7,7))\n",
    "#df.boxplot(rot=90)"
   ]
  },
  {
   "cell_type": "markdown",
   "metadata": {},
   "source": [
    "### Correlations"
   ]
  },
  {
   "cell_type": "markdown",
   "metadata": {},
   "source": [
    "Heat Map:"
   ]
  },
  {
   "cell_type": "code",
   "execution_count": 21,
   "metadata": {},
   "outputs": [
    {
     "data": {
      "text/plain": [
       "<matplotlib.axes._subplots.AxesSubplot at 0x1297eae50>"
      ]
     },
     "execution_count": 21,
     "metadata": {},
     "output_type": "execute_result"
    },
    {
     "data": {
      "image/png": "[encoded data removed]",
      "text/plain": [
       "<Figure size 1100x900 with 2 Axes>"
      ]
     },
     "metadata": {},
     "output_type": "display_data"
    }
   ],
   "source": [
    "sns.set(style=\"white\")\n",
    "\n",
    "# Compute the correlation matrix\n",
    "corr = df.corr()\n",
    "\n",
    "# Generate a mask for the upper triangle\n",
    "mask = np.triu(np.ones_like(corr, dtype=np.bool))\n",
    "\n",
    "# Set up the matplotlib figure\n",
    "f, ax = plt.subplots(figsize=(11, 9))\n",
    "\n",
    "# Generate a custom diverging colormap\n",
    "cmap = sns.diverging_palette(220, 10, as_cmap=True)\n",
    "\n",
    "# Draw the heatmap with the mask and correct aspect ratio\n",
    "sns.heatmap(corr, mask=mask, cmap=cmap, vmax=1, vmin=-1, center=0,\n",
    "            square=True, linewidths=.5, cbar_kws={\"shrink\": .5})"
   ]
  },
  {
   "cell_type": "code",
   "execution_count": 22,
   "metadata": {
    "scrolled": true
   },
   "outputs": [
    {
     "data": {
      "text/html": [
       "<div>\n",
       "<style scoped>\n",
       "    .dataframe tbody tr th:only-of-type {\n",
       "        vertical-align: middle;\n",
       "    }\n",
       "\n",
       "    .dataframe tbody tr th {\n",
       "        vertical-align: top;\n",
       "    }\n",
       "\n",
       "    .dataframe thead th {\n",
       "        text-align: right;\n",
       "    }\n",
       "</style>\n",
       "<table border=\"1\" class=\"dataframe\">\n",
       "  <thead>\n",
       "    <tr style=\"text-align: right;\">\n",
       "      <th></th>\n",
       "      <th>CLIENTNUM</th>\n",
       "      <th>Customer_Age</th>\n",
       "      <th>Dependent_count</th>\n",
       "      <th>Months_on_book</th>\n",
       "      <th>Total_Relationship_Count</th>\n",
       "      <th>Months_Inactive_12_mon</th>\n",
       "      <th>Contacts_Count_12_mon</th>\n",
       "      <th>Credit_Limit</th>\n",
       "      <th>Total_Revolving_Bal</th>\n",
       "      <th>Avg_Open_To_Buy</th>\n",
       "      <th>Total_Amt_Chng_Q4_Q1</th>\n",
       "      <th>Total_Trans_Amt</th>\n",
       "      <th>Total_Trans_Ct</th>\n",
       "      <th>Total_Ct_Chng_Q4_Q1</th>\n",
       "      <th>Avg_Utilization_Ratio</th>\n",
       "    </tr>\n",
       "  </thead>\n",
       "  <tbody>\n",
       "    <tr>\n",
       "      <th>CLIENTNUM</th>\n",
       "      <td>1.000000</td>\n",
       "      <td>0.005784</td>\n",
       "      <td>0.010620</td>\n",
       "      <td>0.133573</td>\n",
       "      <td>0.004521</td>\n",
       "      <td>-0.008603</td>\n",
       "      <td>0.000652</td>\n",
       "      <td>0.010498</td>\n",
       "      <td>0.000204</td>\n",
       "      <td>0.010468</td>\n",
       "      <td>0.025563</td>\n",
       "      <td>-0.018263</td>\n",
       "      <td>0.003985</td>\n",
       "      <td>0.015150</td>\n",
       "      <td>-0.000116</td>\n",
       "    </tr>\n",
       "    <tr>\n",
       "      <th>Customer_Age</th>\n",
       "      <td>0.005784</td>\n",
       "      <td>1.000000</td>\n",
       "      <td>-0.132416</td>\n",
       "      <td>0.787701</td>\n",
       "      <td>-0.026178</td>\n",
       "      <td>0.046719</td>\n",
       "      <td>-0.021069</td>\n",
       "      <td>0.007208</td>\n",
       "      <td>0.016006</td>\n",
       "      <td>0.005716</td>\n",
       "      <td>-0.081284</td>\n",
       "      <td>-0.016633</td>\n",
       "      <td>-0.049813</td>\n",
       "      <td>-0.023894</td>\n",
       "      <td>0.002972</td>\n",
       "    </tr>\n",
       "    <tr>\n",
       "      <th>Dependent_count</th>\n",
       "      <td>0.010620</td>\n",
       "      <td>-0.132416</td>\n",
       "      <td>1.000000</td>\n",
       "      <td>-0.111273</td>\n",
       "      <td>-0.050297</td>\n",
       "      <td>-0.004296</td>\n",
       "      <td>-0.044773</td>\n",
       "      <td>0.069602</td>\n",
       "      <td>-0.005212</td>\n",
       "      <td>0.070009</td>\n",
       "      <td>-0.037239</td>\n",
       "      <td>0.076519</td>\n",
       "      <td>0.074050</td>\n",
       "      <td>0.013051</td>\n",
       "      <td>-0.038232</td>\n",
       "    </tr>\n",
       "    <tr>\n",
       "      <th>Months_on_book</th>\n",
       "      <td>0.133573</td>\n",
       "      <td>0.787701</td>\n",
       "      <td>-0.111273</td>\n",
       "      <td>1.000000</td>\n",
       "      <td>-0.019914</td>\n",
       "      <td>0.066848</td>\n",
       "      <td>-0.011036</td>\n",
       "      <td>0.010640</td>\n",
       "      <td>0.004701</td>\n",
       "      <td>0.010192</td>\n",
       "      <td>-0.061837</td>\n",
       "      <td>-0.018907</td>\n",
       "      <td>-0.038940</td>\n",
       "      <td>-0.021334</td>\n",
       "      <td>-0.011157</td>\n",
       "    </tr>\n",
       "    <tr>\n",
       "      <th>Total_Relationship_Count</th>\n",
       "      <td>0.004521</td>\n",
       "      <td>-0.026178</td>\n",
       "      <td>-0.050297</td>\n",
       "      <td>-0.019914</td>\n",
       "      <td>1.000000</td>\n",
       "      <td>-0.019466</td>\n",
       "      <td>0.038770</td>\n",
       "      <td>-0.036680</td>\n",
       "      <td>0.034898</td>\n",
       "      <td>-0.039877</td>\n",
       "      <td>0.066606</td>\n",
       "      <td>-0.270321</td>\n",
       "      <td>-0.129276</td>\n",
       "      <td>0.057470</td>\n",
       "      <td>0.048201</td>\n",
       "    </tr>\n",
       "    <tr>\n",
       "      <th>Months_Inactive_12_mon</th>\n",
       "      <td>-0.008603</td>\n",
       "      <td>0.046719</td>\n",
       "      <td>-0.004296</td>\n",
       "      <td>0.066848</td>\n",
       "      <td>-0.019466</td>\n",
       "      <td>1.000000</td>\n",
       "      <td>0.030610</td>\n",
       "      <td>-0.017725</td>\n",
       "      <td>-0.046323</td>\n",
       "      <td>-0.013408</td>\n",
       "      <td>-0.029431</td>\n",
       "      <td>-0.018264</td>\n",
       "      <td>-0.040068</td>\n",
       "      <td>-0.044880</td>\n",
       "      <td>-0.012696</td>\n",
       "    </tr>\n",
       "    <tr>\n",
       "      <th>Contacts_Count_12_mon</th>\n",
       "      <td>0.000652</td>\n",
       "      <td>-0.021069</td>\n",
       "      <td>-0.044773</td>\n",
       "      <td>-0.011036</td>\n",
       "      <td>0.038770</td>\n",
       "      <td>0.030610</td>\n",
       "      <td>1.000000</td>\n",
       "      <td>0.032389</td>\n",
       "      <td>-0.045480</td>\n",
       "      <td>0.036572</td>\n",
       "      <td>-0.013768</td>\n",
       "      <td>-0.140019</td>\n",
       "      <td>-0.153669</td>\n",
       "      <td>-0.095925</td>\n",
       "      <td>-0.058508</td>\n",
       "    </tr>\n",
       "    <tr>\n",
       "      <th>Credit_Limit</th>\n",
       "      <td>0.010498</td>\n",
       "      <td>0.007208</td>\n",
       "      <td>0.069602</td>\n",
       "      <td>0.010640</td>\n",
       "      <td>-0.036680</td>\n",
       "      <td>-0.017725</td>\n",
       "      <td>0.032389</td>\n",
       "      <td>1.000000</td>\n",
       "      <td>0.034555</td>\n",
       "      <td>0.995694</td>\n",
       "      <td>0.009129</td>\n",
       "      <td>0.070327</td>\n",
       "      <td>-0.016113</td>\n",
       "      <td>-0.026954</td>\n",
       "      <td>-0.474206</td>\n",
       "    </tr>\n",
       "    <tr>\n",
       "      <th>Total_Revolving_Bal</th>\n",
       "      <td>0.000204</td>\n",
       "      <td>0.016006</td>\n",
       "      <td>-0.005212</td>\n",
       "      <td>0.004701</td>\n",
       "      <td>0.034898</td>\n",
       "      <td>-0.046323</td>\n",
       "      <td>-0.045480</td>\n",
       "      <td>0.034555</td>\n",
       "      <td>1.000000</td>\n",
       "      <td>-0.058243</td>\n",
       "      <td>0.042821</td>\n",
       "      <td>0.014329</td>\n",
       "      <td>0.028955</td>\n",
       "      <td>0.085855</td>\n",
       "      <td>0.639021</td>\n",
       "    </tr>\n",
       "    <tr>\n",
       "      <th>Avg_Open_To_Buy</th>\n",
       "      <td>0.010468</td>\n",
       "      <td>0.005716</td>\n",
       "      <td>0.070009</td>\n",
       "      <td>0.010192</td>\n",
       "      <td>-0.039877</td>\n",
       "      <td>-0.013408</td>\n",
       "      <td>0.036572</td>\n",
       "      <td>0.995694</td>\n",
       "      <td>-0.058243</td>\n",
       "      <td>1.000000</td>\n",
       "      <td>0.005147</td>\n",
       "      <td>0.068920</td>\n",
       "      <td>-0.018781</td>\n",
       "      <td>-0.034888</td>\n",
       "      <td>-0.532959</td>\n",
       "    </tr>\n",
       "    <tr>\n",
       "      <th>Total_Amt_Chng_Q4_Q1</th>\n",
       "      <td>0.025563</td>\n",
       "      <td>-0.081284</td>\n",
       "      <td>-0.037239</td>\n",
       "      <td>-0.061837</td>\n",
       "      <td>0.066606</td>\n",
       "      <td>-0.029431</td>\n",
       "      <td>-0.013768</td>\n",
       "      <td>0.009129</td>\n",
       "      <td>0.042821</td>\n",
       "      <td>0.005147</td>\n",
       "      <td>1.000000</td>\n",
       "      <td>0.106555</td>\n",
       "      <td>0.075489</td>\n",
       "      <td>0.327479</td>\n",
       "      <td>0.030716</td>\n",
       "    </tr>\n",
       "    <tr>\n",
       "      <th>Total_Trans_Amt</th>\n",
       "      <td>-0.018263</td>\n",
       "      <td>-0.016633</td>\n",
       "      <td>0.076519</td>\n",
       "      <td>-0.018907</td>\n",
       "      <td>-0.270321</td>\n",
       "      <td>-0.018264</td>\n",
       "      <td>-0.140019</td>\n",
       "      <td>0.070327</td>\n",
       "      <td>0.014329</td>\n",
       "      <td>0.068920</td>\n",
       "      <td>0.106555</td>\n",
       "      <td>1.000000</td>\n",
       "      <td>0.794373</td>\n",
       "      <td>0.173242</td>\n",
       "      <td>0.000127</td>\n",
       "    </tr>\n",
       "    <tr>\n",
       "      <th>Total_Trans_Ct</th>\n",
       "      <td>0.003985</td>\n",
       "      <td>-0.049813</td>\n",
       "      <td>0.074050</td>\n",
       "      <td>-0.038940</td>\n",
       "      <td>-0.129276</td>\n",
       "      <td>-0.040068</td>\n",
       "      <td>-0.153669</td>\n",
       "      <td>-0.016113</td>\n",
       "      <td>0.028955</td>\n",
       "      <td>-0.018781</td>\n",
       "      <td>0.075489</td>\n",
       "      <td>0.794373</td>\n",
       "      <td>1.000000</td>\n",
       "      <td>0.223801</td>\n",
       "      <td>0.071053</td>\n",
       "    </tr>\n",
       "    <tr>\n",
       "      <th>Total_Ct_Chng_Q4_Q1</th>\n",
       "      <td>0.015150</td>\n",
       "      <td>-0.023894</td>\n",
       "      <td>0.013051</td>\n",
       "      <td>-0.021334</td>\n",
       "      <td>0.057470</td>\n",
       "      <td>-0.044880</td>\n",
       "      <td>-0.095925</td>\n",
       "      <td>-0.026954</td>\n",
       "      <td>0.085855</td>\n",
       "      <td>-0.034888</td>\n",
       "      <td>0.327479</td>\n",
       "      <td>0.173242</td>\n",
       "      <td>0.223801</td>\n",
       "      <td>1.000000</td>\n",
       "      <td>0.093738</td>\n",
       "    </tr>\n",
       "    <tr>\n",
       "      <th>Avg_Utilization_Ratio</th>\n",
       "      <td>-0.000116</td>\n",
       "      <td>0.002972</td>\n",
       "      <td>-0.038232</td>\n",
       "      <td>-0.011157</td>\n",
       "      <td>0.048201</td>\n",
       "      <td>-0.012696</td>\n",
       "      <td>-0.058508</td>\n",
       "      <td>-0.474206</td>\n",
       "      <td>0.639021</td>\n",
       "      <td>-0.532959</td>\n",
       "      <td>0.030716</td>\n",
       "      <td>0.000127</td>\n",
       "      <td>0.071053</td>\n",
       "      <td>0.093738</td>\n",
       "      <td>1.000000</td>\n",
       "    </tr>\n",
       "  </tbody>\n",
       "</table>\n",
       "</div>"
      ],
      "text/plain": [
       "                          CLIENTNUM  Customer_Age  Dependent_count  \\\n",
       "CLIENTNUM                  1.000000      0.005784         0.010620   \n",
       "Customer_Age               0.005784      1.000000        -0.132416   \n",
       "Dependent_count            0.010620     -0.132416         1.000000   \n",
       "Months_on_book             0.133573      0.787701        -0.111273   \n",
       "Total_Relationship_Count   0.004521     -0.026178        -0.050297   \n",
       "Months_Inactive_12_mon    -0.008603      0.046719        -0.004296   \n",
       "Contacts_Count_12_mon      0.000652     -0.021069        -0.044773   \n",
       "Credit_Limit               0.010498      0.007208         0.069602   \n",
       "Total_Revolving_Bal        0.000204      0.016006        -0.005212   \n",
       "Avg_Open_To_Buy            0.010468      0.005716         0.070009   \n",
       "Total_Amt_Chng_Q4_Q1       0.025563     -0.081284        -0.037239   \n",
       "Total_Trans_Amt           -0.018263     -0.016633         0.076519   \n",
       "Total_Trans_Ct             0.003985     -0.049813         0.074050   \n",
       "Total_Ct_Chng_Q4_Q1        0.015150     -0.023894         0.013051   \n",
       "Avg_Utilization_Ratio     -0.000116      0.002972        -0.038232   \n",
       "\n",
       "                          Months_on_book  Total_Relationship_Count  \\\n",
       "CLIENTNUM                       0.133573                  0.004521   \n",
       "Customer_Age                    0.787701                 -0.026178   \n",
       "Dependent_count                -0.111273                 -0.050297   \n",
       "Months_on_book                  1.000000                 -0.019914   \n",
       "Total_Relationship_Count       -0.019914                  1.000000   \n",
       "Months_Inactive_12_mon          0.066848                 -0.019466   \n",
       "Contacts_Count_12_mon          -0.011036                  0.038770   \n",
       "Credit_Limit                    0.010640                 -0.036680   \n",
       "Total_Revolving_Bal             0.004701                  0.034898   \n",
       "Avg_Open_To_Buy                 0.010192                 -0.039877   \n",
       "Total_Amt_Chng_Q4_Q1           -0.061837                  0.066606   \n",
       "Total_Trans_Amt                -0.018907                 -0.270321   \n",
       "Total_Trans_Ct                 -0.038940                 -0.129276   \n",
       "Total_Ct_Chng_Q4_Q1            -0.021334                  0.057470   \n",
       "Avg_Utilization_Ratio          -0.011157                  0.048201   \n",
       "\n",
       "                          Months_Inactive_12_mon  Contacts_Count_12_mon  \\\n",
       "CLIENTNUM                              -0.008603               0.000652   \n",
       "Customer_Age                            0.046719              -0.021069   \n",
       "Dependent_count                        -0.004296              -0.044773   \n",
       "Months_on_book                          0.066848              -0.011036   \n",
       "Total_Relationship_Count               -0.019466               0.038770   \n",
       "Months_Inactive_12_mon                  1.000000               0.030610   \n",
       "Contacts_Count_12_mon                   0.030610               1.000000   \n",
       "Credit_Limit                           -0.017725               0.032389   \n",
       "Total_Revolving_Bal                    -0.046323              -0.045480   \n",
       "Avg_Open_To_Buy                        -0.013408               0.036572   \n",
       "Total_Amt_Chng_Q4_Q1                   -0.029431              -0.013768   \n",
       "Total_Trans_Amt                        -0.018264              -0.140019   \n",
       "Total_Trans_Ct                         -0.040068              -0.153669   \n",
       "Total_Ct_Chng_Q4_Q1                    -0.044880              -0.095925   \n",
       "Avg_Utilization_Ratio                  -0.012696              -0.058508   \n",
       "\n",
       "                          Credit_Limit  Total_Revolving_Bal  Avg_Open_To_Buy  \\\n",
       "CLIENTNUM                     0.010498             0.000204         0.010468   \n",
       "Customer_Age                  0.007208             0.016006         0.005716   \n",
       "Dependent_count               0.069602            -0.005212         0.070009   \n",
       "Months_on_book                0.010640             0.004701         0.010192   \n",
       "Total_Relationship_Count     -0.036680             0.034898        -0.039877   \n",
       "Months_Inactive_12_mon       -0.017725            -0.046323        -0.013408   \n",
       "Contacts_Count_12_mon         0.032389            -0.045480         0.036572   \n",
       "Credit_Limit                  1.000000             0.034555         0.995694   \n",
       "Total_Revolving_Bal           0.034555             1.000000        -0.058243   \n",
       "Avg_Open_To_Buy               0.995694            -0.058243         1.000000   \n",
       "Total_Amt_Chng_Q4_Q1          0.009129             0.042821         0.005147   \n",
       "Total_Trans_Amt               0.070327             0.014329         0.068920   \n",
       "Total_Trans_Ct               -0.016113             0.028955        -0.018781   \n",
       "Total_Ct_Chng_Q4_Q1          -0.026954             0.085855        -0.034888   \n",
       "Avg_Utilization_Ratio        -0.474206             0.639021        -0.532959   \n",
       "\n",
       "                          Total_Amt_Chng_Q4_Q1  Total_Trans_Amt  \\\n",
       "CLIENTNUM                             0.025563        -0.018263   \n",
       "Customer_Age                         -0.081284        -0.016633   \n",
       "Dependent_count                      -0.037239         0.076519   \n",
       "Months_on_book                       -0.061837        -0.018907   \n",
       "Total_Relationship_Count              0.066606        -0.270321   \n",
       "Months_Inactive_12_mon               -0.029431        -0.018264   \n",
       "Contacts_Count_12_mon                -0.013768        -0.140019   \n",
       "Credit_Limit                          0.009129         0.070327   \n",
       "Total_Revolving_Bal                   0.042821         0.014329   \n",
       "Avg_Open_To_Buy                       0.005147         0.068920   \n",
       "Total_Amt_Chng_Q4_Q1                  1.000000         0.106555   \n",
       "Total_Trans_Amt                       0.106555         1.000000   \n",
       "Total_Trans_Ct                        0.075489         0.794373   \n",
       "Total_Ct_Chng_Q4_Q1                   0.327479         0.173242   \n",
       "Avg_Utilization_Ratio                 0.030716         0.000127   \n",
       "\n",
       "                          Total_Trans_Ct  Total_Ct_Chng_Q4_Q1  \\\n",
       "CLIENTNUM                       0.003985             0.015150   \n",
       "Customer_Age                   -0.049813            -0.023894   \n",
       "Dependent_count                 0.074050             0.013051   \n",
       "Months_on_book                 -0.038940            -0.021334   \n",
       "Total_Relationship_Count       -0.129276             0.057470   \n",
       "Months_Inactive_12_mon         -0.040068            -0.044880   \n",
       "Contacts_Count_12_mon          -0.153669            -0.095925   \n",
       "Credit_Limit                   -0.016113            -0.026954   \n",
       "Total_Revolving_Bal             0.028955             0.085855   \n",
       "Avg_Open_To_Buy                -0.018781            -0.034888   \n",
       "Total_Amt_Chng_Q4_Q1            0.075489             0.327479   \n",
       "Total_Trans_Amt                 0.794373             0.173242   \n",
       "Total_Trans_Ct                  1.000000             0.223801   \n",
       "Total_Ct_Chng_Q4_Q1             0.223801             1.000000   \n",
       "Avg_Utilization_Ratio           0.071053             0.093738   \n",
       "\n",
       "                          Avg_Utilization_Ratio  \n",
       "CLIENTNUM                             -0.000116  \n",
       "Customer_Age                           0.002972  \n",
       "Dependent_count                       -0.038232  \n",
       "Months_on_book                        -0.011157  \n",
       "Total_Relationship_Count               0.048201  \n",
       "Months_Inactive_12_mon                -0.012696  \n",
       "Contacts_Count_12_mon                 -0.058508  \n",
       "Credit_Limit                          -0.474206  \n",
       "Total_Revolving_Bal                    0.639021  \n",
       "Avg_Open_To_Buy                       -0.532959  \n",
       "Total_Amt_Chng_Q4_Q1                   0.030716  \n",
       "Total_Trans_Amt                        0.000127  \n",
       "Total_Trans_Ct                         0.071053  \n",
       "Total_Ct_Chng_Q4_Q1                    0.093738  \n",
       "Avg_Utilization_Ratio                  1.000000  "
      ]
     },
     "execution_count": 22,
     "metadata": {},
     "output_type": "execute_result"
    }
   ],
   "source": [
    "corr"
   ]
  },
  {
   "cell_type": "markdown",
   "metadata": {},
   "source": [
    "We need to get the columns with an absolute correlation value high for our problem (in this case we set it to 0.8)."
   ]
  },
  {
   "cell_type": "code",
   "execution_count": 23,
   "metadata": {
    "scrolled": true
   },
   "outputs": [
    {
     "data": {
      "text/plain": [
       "[('Credit_Limit', 'Avg_Open_To_Buy')]"
      ]
     },
     "execution_count": 23,
     "metadata": {},
     "output_type": "execute_result"
    }
   ],
   "source": [
    "indices = np.where((corr > 0.8) | (corr < -0.8))\n",
    "indices = [(corr.index[x], corr.columns[y]) for x, y in zip(*indices)\n",
    "                                        if x != y and x < y]\n",
    "indices"
   ]
  },
  {
   "cell_type": "markdown",
   "metadata": {},
   "source": [
    "Drop one of the two correlated columns:"
   ]
  },
  {
   "cell_type": "code",
   "execution_count": 24,
   "metadata": {},
   "outputs": [],
   "source": [
    "df = df.drop('Avg_Open_To_Buy', axis = 1)\n",
    "numerical_features_all = numerical_features_all.drop('Avg_Open_To_Buy')\n",
    "model_features = model_features.drop('Avg_Open_To_Buy')"
   ]
  },
  {
   "cell_type": "markdown",
   "metadata": {},
   "source": [
    "### Missing values:"
   ]
  },
  {
   "cell_type": "markdown",
   "metadata": {},
   "source": [
    "Let's check the number of missing (nan) values for each column."
   ]
  },
  {
   "cell_type": "code",
   "execution_count": 28,
   "metadata": {},
   "outputs": [],
   "source": [
    "# Replace 'Unknown' by missing value\n",
    "for c in categorical_features_all:\n",
    "    df[c] = df[c].replace('Unknown',np.nan)"
   ]
  },
  {
   "cell_type": "code",
   "execution_count": 31,
   "metadata": {
    "scrolled": true
   },
   "outputs": [
    {
     "data": {
      "text/plain": [
       "<matplotlib.axes._subplots.AxesSubplot at 0x1298d9d10>"
      ]
     },
     "execution_count": 31,
     "metadata": {},
     "output_type": "execute_result"
    },
    {
     "data": {
      "image/png": "[encoded data removed]",
      "text/plain": [
       "<Figure size 800x550 with 1 Axes>"
      ]
     },
     "metadata": {},
     "output_type": "display_data"
    }
   ],
   "source": [
    "sns.heatmap(df.isnull(), cbar=False)"
   ]
  },
  {
   "cell_type": "code",
   "execution_count": 68,
   "metadata": {},
   "outputs": [
    {
     "name": "stdout",
     "output_type": "stream",
     "text": [
      "Your selected dataframe has 20 columns.\n",
      "There are 3 columns that have missing values.\n"
     ]
    },
    {
     "data": {
      "text/html": [
       "<div>\n",
       "<style scoped>\n",
       "    .dataframe tbody tr th:only-of-type {\n",
       "        vertical-align: middle;\n",
       "    }\n",
       "\n",
       "    .dataframe tbody tr th {\n",
       "        vertical-align: top;\n",
       "    }\n",
       "\n",
       "    .dataframe thead th {\n",
       "        text-align: right;\n",
       "    }\n",
       "</style>\n",
       "<table border=\"1\" class=\"dataframe\">\n",
       "  <thead>\n",
       "    <tr style=\"text-align: right;\">\n",
       "      <th></th>\n",
       "      <th>Missing Values</th>\n",
       "      <th>% of Total Values</th>\n",
       "    </tr>\n",
       "  </thead>\n",
       "  <tbody>\n",
       "    <tr>\n",
       "      <th>Education_Level</th>\n",
       "      <td>1357</td>\n",
       "      <td>15.0</td>\n",
       "    </tr>\n",
       "    <tr>\n",
       "      <th>Income_Category</th>\n",
       "      <td>1014</td>\n",
       "      <td>11.2</td>\n",
       "    </tr>\n",
       "    <tr>\n",
       "      <th>Marital_Status</th>\n",
       "      <td>668</td>\n",
       "      <td>7.4</td>\n",
       "    </tr>\n",
       "  </tbody>\n",
       "</table>\n",
       "</div>"
      ],
      "text/plain": [
       "                 Missing Values  % of Total Values\n",
       "Education_Level            1357               15.0\n",
       "Income_Category            1014               11.2\n",
       "Marital_Status              668                7.4"
      ]
     },
     "execution_count": 68,
     "metadata": {},
     "output_type": "execute_result"
    }
   ],
   "source": [
    "def missing_values_table(df):\n",
    "        mis_val = df.isnull().sum()\n",
    "        mis_val_percent = 100 * df.isnull().sum() / len(df)\n",
    "        mis_val_table = pd.concat([mis_val, mis_val_percent], axis=1)\n",
    "        mis_val_table_ren_columns = mis_val_table.rename(\n",
    "        columns = {0 : 'Missing Values', 1 : '% of Total Values'})\n",
    "        mis_val_table_ren_columns = mis_val_table_ren_columns[\n",
    "            mis_val_table_ren_columns.iloc[:,1] != 0].sort_values(\n",
    "        '% of Total Values', ascending=False).round(1)\n",
    "        print (\"Your selected dataframe has \" + str(df.shape[1]) + \" columns.\\n\"      \n",
    "            \"There are \" + str(mis_val_table_ren_columns.shape[0]) +\n",
    "              \" columns that have missing values.\")\n",
    "        return mis_val_table_ren_columns\n",
    "missing = missing_values_table(df)\n",
    "missing"
   ]
  },
  {
   "cell_type": "markdown",
   "metadata": {},
   "source": [
    "With missing values we can:\n",
    "    * Impute (with mean, constant value, majority value or ML imputation)\n",
    "    * Drop row/column\n",
    "    \n",
    "The best option depends on the problem faced.\n",
    "In the following commented code, you will see a simple sample on how to perform the options just mentioned. Be aware of checking the parameters of the methods to get more options."
   ]
  },
  {
   "cell_type": "code",
   "execution_count": null,
   "metadata": {},
   "outputs": [],
   "source": [
    "# If you want to impute by a constant\n",
    "# df[c] = df[c].replace(np.nan, X) # where c is the column name and X is the constant\n",
    "\n",
    "# If you want to impute by the mean\n",
    "# df = df[c].fillna(df[c].mean()) # where c is the column name\n",
    "\n",
    "# If you want to impute by the majority value\n",
    "# df = df[c].fillna(df[c].mode()) # where c is the column name\n",
    "\n",
    "\n",
    "# Drop row\n",
    "# df = df.dropna()\n",
    "\n",
    "# Drop column\n",
    "# df = df.dropna(axis = 1)\n",
    "\n",
    "# ML imputation"
   ]
  },
  {
   "cell_type": "markdown",
   "metadata": {},
   "source": [
    "To keep with the example, we will use https://github.com/awslabs/datawig as example of ML imputation for categorical features:"
   ]
  },
  {
   "cell_type": "code",
   "execution_count": 169,
   "metadata": {
    "scrolled": true
   },
   "outputs": [],
   "source": [
    "import datawig\n",
    "\n",
    "# Columns to impute and columns used for training\n",
    "columns_to_impute = list(missing.index)\n",
    "columns_to_train = model_features.drop(columns_to_impute)\n",
    "\n",
    "imputed = df\n",
    "for c in columns_to_impute:\n",
    "    \n",
    "    # Prepare train, validation and test set\n",
    "    df_train = imputed.dropna(subset=[c])\n",
    "\n",
    "    mask = imputed[c].isnull()\n",
    "    df_test = imputed[mask]\n",
    "\n",
    "    # Initialize a SimpleImputer model\n",
    "    imputer = datawig.SimpleImputer(\n",
    "        input_columns=columns_to_train, # column(s) containing information about the column we want to impute\n",
    "        output_column=c, # the column we'd like to impute values for\n",
    "        output_path = 'imputer_model' # stores model data and metrics\n",
    "        )\n",
    "\n",
    "    # Fit an imputer model on the train data\n",
    "    imputer.fit(train_df=df_train)\n",
    "\n",
    "    # Impute missing values and return original dataframe with predictions\n",
    "    imputed = imputer.predict(df_test) # Check on probability\n",
    "    imputed = df_train.append(imputed)\n",
    "    imputed[c].fillna(imputed[c+'_imputed'], inplace=True)\n",
    "\n",
    "imputed = imputed.drop([s + '_imputed_proba' for s in columns_to_impute], axis = 1) # remove proobabilities columns\n",
    "imputed = imputed.drop([s + '_imputed' for s in columns_to_impute], axis = 1)"
   ]
  },
  {
   "cell_type": "code",
   "execution_count": 170,
   "metadata": {
    "scrolled": true
   },
   "outputs": [
    {
     "name": "stdout",
     "output_type": "stream",
     "text": [
      "Your selected dataframe has 20 columns.\n",
      "There are 0 columns that have missing values.\n"
     ]
    },
    {
     "data": {
      "text/html": [
       "<div>\n",
       "<style scoped>\n",
       "    .dataframe tbody tr th:only-of-type {\n",
       "        vertical-align: middle;\n",
       "    }\n",
       "\n",
       "    .dataframe tbody tr th {\n",
       "        vertical-align: top;\n",
       "    }\n",
       "\n",
       "    .dataframe thead th {\n",
       "        text-align: right;\n",
       "    }\n",
       "</style>\n",
       "<table border=\"1\" class=\"dataframe\">\n",
       "  <thead>\n",
       "    <tr style=\"text-align: right;\">\n",
       "      <th></th>\n",
       "      <th>Missing Values</th>\n",
       "      <th>% of Total Values</th>\n",
       "    </tr>\n",
       "  </thead>\n",
       "  <tbody>\n",
       "  </tbody>\n",
       "</table>\n",
       "</div>"
      ],
      "text/plain": [
       "Empty DataFrame\n",
       "Columns: [Missing Values, % of Total Values]\n",
       "Index: []"
      ]
     },
     "execution_count": 170,
     "metadata": {},
     "output_type": "execute_result"
    }
   ],
   "source": [
    "# We can see there are no missing values on our dataset\n",
    "missing_values_table(imputed)"
   ]
  },
  {
   "cell_type": "markdown",
   "metadata": {},
   "source": [
    "### One hot encoding"
   ]
  },
  {
   "cell_type": "code",
   "execution_count": 173,
   "metadata": {
    "scrolled": true
   },
   "outputs": [
    {
     "data": {
      "text/plain": [
       "(9072, 30)"
      ]
     },
     "execution_count": 173,
     "metadata": {},
     "output_type": "execute_result"
    }
   ],
   "source": [
    "#One hot encode for categorical variables\n",
    "encode_cat = pd.get_dummies(imputed[categorical_features_all], drop_first=True)\n",
    "\n",
    "encode_cat = pd.concat([encode_cat, imputed], axis = 1)\n",
    "df_final = encode_cat.drop(list((imputed[categorical_features_all]).columns), axis=1)\n",
    "df_final.shape"
   ]
  },
  {
   "cell_type": "code",
   "execution_count": 179,
   "metadata": {},
   "outputs": [],
   "source": [
    "# Convert target column for being 1 attrited and 0 existing\n",
    "df_final['Attrition_Flag'] = df_final['Attrition_Flag'].replace('Existing Customer',0)\n",
    "df_final['Attrition_Flag'] = df_final['Attrition_Flag'].replace('Attrited Customer',1)"
   ]
  },
  {
   "cell_type": "markdown",
   "metadata": {},
   "source": [
    "#### Save Data:"
   ]
  },
  {
   "cell_type": "code",
   "execution_count": 189,
   "metadata": {},
   "outputs": [],
   "source": [
    "df_final.to_csv(path+'/df_eda.csv')"
   ]
  }
 ],
 "metadata": {
  "kernelspec": {
   "display_name": "Python 3",
   "language": "python",
   "name": "python3"
  },
  "language_info": {
   "codemirror_mode": {
    "name": "ipython",
    "version": 3
   },
   "file_extension": ".py",
   "mimetype": "text/x-python",
   "name": "python",
   "nbconvert_exporter": "python",
   "pygments_lexer": "ipython3",
   "version": "3.7.5"
  }
 },
 "nbformat": 4,
 "nbformat_minor": 2
}
