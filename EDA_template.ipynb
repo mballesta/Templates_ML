{
 "cells": [
  {
   "cell_type": "markdown",
   "metadata": {},
   "source": [
    "## Exploratory Analysis"
   ]
  },
  {
   "cell_type": "markdown",
   "metadata": {},
   "source": [
    "#### Libraries:"
   ]
  },
  {
   "cell_type": "code",
   "execution_count": null,
   "metadata": {},
   "outputs": [],
   "source": [
    "import pandas as pd\n",
    "import numpy as np"
   ]
  },
  {
   "cell_type": "markdown",
   "metadata": {},
   "source": [
    "#### Load Data:"
   ]
  },
  {
   "cell_type": "code",
   "execution_count": null,
   "metadata": {},
   "outputs": [],
   "source": [
    "directory = 'C:/Users/Mireia/Desktop/STRANDS/StrandsTest.csv'"
   ]
  },
  {
   "cell_type": "markdown",
   "metadata": {},
   "source": [
    "Csv:"
   ]
  },
  {
   "cell_type": "code",
   "execution_count": null,
   "metadata": {},
   "outputs": [],
   "source": [
    "raw = pd.read_csv(directory, sep = ',')\n",
    "raw.shape\n",
    "raw.info()"
   ]
  },
  {
   "cell_type": "markdown",
   "metadata": {},
   "source": [
    "Other formats:"
   ]
  },
  {
   "cell_type": "code",
   "execution_count": null,
   "metadata": {},
   "outputs": [],
   "source": []
  },
  {
   "cell_type": "markdown",
   "metadata": {},
   "source": [
    "#### Missing values:"
   ]
  },
  {
   "cell_type": "code",
   "execution_count": null,
   "metadata": {},
   "outputs": [],
   "source": [
    "def missing_values_table(df):\n",
    "        mis_val = df.isnull().sum()\n",
    "        mis_val_percent = 100 * df.isnull().sum() / len(df)\n",
    "        mis_val_table = pd.concat([mis_val, mis_val_percent], axis=1)\n",
    "        mis_val_table_ren_columns = mis_val_table.rename(\n",
    "        columns = {0 : 'Missing Values', 1 : '% of Total Values'})\n",
    "        mis_val_table_ren_columns = mis_val_table_ren_columns[\n",
    "            mis_val_table_ren_columns.iloc[:,1] != 0].sort_values(\n",
    "        '% of Total Values', ascending=False).round(1)\n",
    "        print (\"Your selected dataframe has \" + str(df.shape[1]) + \" columns.\\n\"      \n",
    "            \"There are \" + str(mis_val_table_ren_columns.shape[0]) +\n",
    "              \" columns that have missing values.\")\n",
    "        return mis_val_table_ren_columns\n",
    "missing_values_table(data_models)"
   ]
  },
  {
   "cell_type": "markdown",
   "metadata": {},
   "source": [
    "#### Outliers:"
   ]
  },
  {
   "cell_type": "markdown",
   "metadata": {},
   "source": [
    "Check distribution of features:"
   ]
  },
  {
   "cell_type": "code",
   "execution_count": null,
   "metadata": {},
   "outputs": [],
   "source": [
    "plt.figure(figsize = (15, 5))\n",
    "plt.subplot(1, 3, 1)\n",
    "plt.hist(data_models['VALUE_EURO'].dropna(), bins = 20, edgecolor = 'black', color = 'green')\n",
    "data_models['VALUE_EURO'].describe()\n",
    "data_models['VALUE_EURO'].dropna().sort_values().tail(50)\n",
    "plt.title('Hist. Value Euro')"
   ]
  },
  {
   "cell_type": "code",
   "execution_count": null,
   "metadata": {},
   "outputs": [],
   "source": [
    "outliers = {'VALUE_EURO', 'VALUE_EURO_FIN_1', 'AWARD_VALUE_EURO'}\n",
    "for columns in outliers:\n",
    "    first_quartile = data_models[columns].describe()['25%']\n",
    "    third_quartile = data_models[columns].describe()['75%']\n",
    "\n",
    "    iqr = third_quartile - first_quartile\n",
    "\n",
    "    data_models = data_models[(data_models[columns] > (first_quartile - 3 * iqr)) &\n",
    "                              (data_models[columns] < (third_quartile + 3 * iqr))]"
   ]
  },
  {
   "cell_type": "markdown",
   "metadata": {},
   "source": [
    "Re-check distribution of the features"
   ]
  },
  {
   "cell_type": "markdown",
   "metadata": {},
   "source": [
    "#### Correlation"
   ]
  },
  {
   "cell_type": "code",
   "execution_count": null,
   "metadata": {},
   "outputs": [],
   "source": [
    "correlations = data_balanced.assign(TYPE_OF_CONTRACT = data_balanced.TYPE_OF_CONTRACT.astype('category').cat.codes).corr()['TYPE_OF_CONTRACT']\n",
    "correlations.sort_values()\n"
   ]
  },
  {
   "cell_type": "markdown",
   "metadata": {},
   "source": [
    "Heat Map"
   ]
  },
  {
   "cell_type": "code",
   "execution_count": null,
   "metadata": {},
   "outputs": [],
   "source": []
  },
  {
   "cell_type": "markdown",
   "metadata": {},
   "source": [
    "#### Categorical features"
   ]
  },
  {
   "cell_type": "markdown",
   "metadata": {},
   "source": [
    "One hot encoding"
   ]
  },
  {
   "cell_type": "code",
   "execution_count": null,
   "metadata": {},
   "outputs": [],
   "source": [
    "\n",
    "#log transformation of numerical variables\n",
    "numeric_subset = features.select_dtypes(include=['float64', 'int64'])\n",
    "for col in numeric_subset.columns:\n",
    "    features['log_' + col] = np.log(numeric_subset[col])\n",
    "    \n",
    "#One hot encode for categorical variables\n",
    "categorical_subset = features.select_dtypes(include=['object'])\n",
    "categorical_subset = categorical_subset.drop(columns = 'TYPE_OF_CONTRACT')\n",
    "categorical_subset = pd.get_dummies(categorical_subset)\n",
    "\n",
    "features = pd.concat([numeric_subset, categorical_subset], axis = 1)\n",
    "features['TYPE_OF_CONTRACT'] = data_models['TYPE_OF_CONTRACT']\n",
    "features.shape\n",
    "\n",
    "features['TYPE_OF_CONTRACT'] = features['TYPE_OF_CONTRACT'].map({'U' : 1, 'S' : 2, 'W' : 3})# required numerical code for the algorithms"
   ]
  },
  {
   "cell_type": "markdown",
   "metadata": {},
   "source": [
    "#### Save Data:"
   ]
  },
  {
   "cell_type": "markdown",
   "metadata": {},
   "source": [
    "Different formats"
   ]
  },
  {
   "cell_type": "code",
   "execution_count": null,
   "metadata": {},
   "outputs": [],
   "source": []
  }
 ],
 "metadata": {
  "kernelspec": {
   "display_name": "Python 3",
   "language": "python",
   "name": "python3"
  },
  "language_info": {
   "codemirror_mode": {
    "name": "ipython",
    "version": 3
   },
   "file_extension": ".py",
   "mimetype": "text/x-python",
   "name": "python",
   "nbconvert_exporter": "python",
   "pygments_lexer": "ipython3",
   "version": "3.7.5"
  }
 },
 "nbformat": 4,
 "nbformat_minor": 2
}
